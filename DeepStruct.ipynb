{
 "cells": [
  {
   "cell_type": "code",
   "execution_count": 1,
   "metadata": {},
   "outputs": [],
   "source": [
    "import torch\n",
    "import torch.nn as nn\n",
    "import torch.nn.functional as F"
   ]
  },
  {
   "cell_type": "code",
   "execution_count": null,
   "metadata": {},
   "outputs": [],
   "source": [
    "class HighwayLayer(nn.Module):\n",
    "    def __init__():\n",
    "        # TODO : Les arguments\n",
    "        self.l = nn.Linear()\n",
    "        self.relu = nn.ReLU()\n",
    "        \n",
    "    def forward(self, inputs):\n",
    "        # TODO\n",
    "        \n",
    "class Model(nn.Module):\n",
    "    def __init__():\n",
    "        # TODO : les arguments\n",
    "        self.embed = nn.Embedding()\n",
    "        self.conv = nn.Conv1d()\n",
    "        self.mp = nn.MaxPool1d()\n",
    "        self.hw = HighwayLayer()\n",
    "        self.lstm = nn.LSTM()\n",
    "        self.out = nn.Linear()\n",
    "        \n",
    "        self.do = nn.Dropout()\n",
    "        \n",
    "    def forward(self, inputs):\n",
    "        # TODO\n",
    "        "
   ]
  }
 ],
 "metadata": {
  "kernelspec": {
   "display_name": "Python 3",
   "language": "python",
   "name": "python3"
  },
  "language_info": {
   "codemirror_mode": {
    "name": "ipython",
    "version": 3
   },
   "file_extension": ".py",
   "mimetype": "text/x-python",
   "name": "python",
   "nbconvert_exporter": "python",
   "pygments_lexer": "ipython3",
   "version": "3.6.7"
  }
 },
 "nbformat": 4,
 "nbformat_minor": 2
}
